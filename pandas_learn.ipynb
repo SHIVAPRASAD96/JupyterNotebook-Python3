{
 "cells": [
  {
   "cell_type": "code",
   "execution_count": 1,
   "metadata": {
    "collapsed": false
   },
   "outputs": [
    {
     "data": {
      "text/plain": [
       "0      1\n",
       "1      2\n",
       "2      3\n",
       "3      4\n",
       "4    256\n",
       "dtype: int64"
      ]
     },
     "execution_count": 1,
     "metadata": {},
     "output_type": "execute_result"
    }
   ],
   "source": [
    "import pandas as pd\n",
    "pd.Series([1,2,3,4,256])"
   ]
  },
  {
   "cell_type": "code",
   "execution_count": 2,
   "metadata": {
    "collapsed": false
   },
   "outputs": [
    {
     "name": "stdout",
     "output_type": "stream",
     "text": [
      "   bounce rates  day  visitors\n",
      "0            66    1        22\n",
      "1            56    2        35\n",
      "2            52    3        42\n",
      "3            34    4        12\n",
      "   bounce rates  day  visitors\n",
      "0            66    1        22\n",
      "1            56    2        35\n",
      "2            52    3        42\n",
      "3            34    4        12\n",
      "   bounce rates  day  visitors\n",
      "2            52    3        42\n",
      "3            34    4        12\n"
     ]
    }
   ],
   "source": [
    "import pandas as pd\n",
    "import matplotlib.pyplot as plt\n",
    "from matplotlib import style\n",
    "style.use(\"ggplot\")\n",
    "\n",
    "web_stats = {\"day\" : [1,2,3,4],\n",
    "             \"visitors\" : [22,35,42,12],\n",
    "             \"bounce rates\": [66,56,52,34]\n",
    "             }\n",
    "\n",
    "df = pd.DataFrame(web_stats)\n",
    "\n",
    "print(df);\n",
    "print(df.head())\n",
    "print(df.tail(2))\n"
   ]
  },
  {
   "cell_type": "code",
   "execution_count": 3,
   "metadata": {
    "collapsed": false
   },
   "outputs": [
    {
     "name": "stdout",
     "output_type": "stream",
     "text": [
      "     bounce rates  visitors\n",
      "day                        \n",
      "1              66        22\n",
      "2              56        35\n",
      "3              52        42\n",
      "4              34        12\n"
     ]
    }
   ],
   "source": [
    "import pandas as pd\n",
    "import matplotlib.pyplot as plt\n",
    "from matplotlib import style\n",
    "style.use(\"ggplot\")\n",
    "\n",
    "web_stats = {\"day\" : [1,2,3,4],\n",
    "             \"visitors\" : [22,35,42,12],\n",
    "             \"bounce rates\": [66,56,52,34]\n",
    "             }\n",
    "\n",
    "df = pd.DataFrame(web_stats)\n",
    "\n",
    "#print(df);\n",
    "#print(df.head())\n",
    "#print(df.tail(2))\n",
    "#print(df.set_index('day'))\n",
    "#print(df.head())\n",
    "\n",
    "\n",
    "df = df.set_index('day')\n",
    "print(df.head())\n"
   ]
  },
  {
   "cell_type": "code",
   "execution_count": null,
   "metadata": {
    "collapsed": true
   },
   "outputs": [],
   "source": []
  }
 ],
 "metadata": {
  "kernelspec": {
   "display_name": "Python 3",
   "language": "python",
   "name": "python3"
  },
  "language_info": {
   "codemirror_mode": {
    "name": "ipython",
    "version": 3
   },
   "file_extension": ".py",
   "mimetype": "text/x-python",
   "name": "python",
   "nbconvert_exporter": "python",
   "pygments_lexer": "ipython3",
   "version": "3.4.4rc1"
  }
 },
 "nbformat": 4,
 "nbformat_minor": 0
}
