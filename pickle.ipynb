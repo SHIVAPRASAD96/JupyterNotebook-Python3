{
 "cells": [
  {
   "cell_type": "code",
   "execution_count": 1,
   "metadata": {
    "collapsed": false
   },
   "outputs": [
    {
     "name": "stdout",
     "output_type": "stream",
     "text": [
      "[1, 2, 'three']\n"
     ]
    }
   ],
   "source": [
    "import pickle \n",
    "\n",
    "with open(\"mydata.pickle\",\"wb\") as mysavedata:\n",
    "    \n",
    "    pickle.dump([1,2,\"three\"],mysavedata)\n",
    "\n",
    "with open(\"mydata.pickle\",\"rb\") as myrestoredata:\n",
    "    \n",
    "    a_list = pickle.load(myrestoredata)\n",
    "\n",
    "print(a_list)    "
   ]
  },
  {
   "cell_type": "code",
   "execution_count": 2,
   "metadata": {
    "collapsed": true
   },
   "outputs": [],
   "source": [
    "import pickle\n",
    "\n",
    "with open(\"mydata02.pickle\",\"wb\") as new01:\n",
    "    \n",
    "    pickle.dump([\"helloe  world how are you\",23,3535,253,56],new01)\n",
    "\n",
    "with open(\"mydata02.pickle\",\"rb\") as new01:\n",
    "    \n",
    "    load01 = pickle.load(new01)\n",
    "    "
   ]
  },
  {
   "cell_type": "code",
   "execution_count": 3,
   "metadata": {
    "collapsed": false
   },
   "outputs": [
    {
     "name": "stdout",
     "output_type": "stream",
     "text": [
      "['helloe  world how are you', 23, 3535, 253, 56]\n"
     ]
    }
   ],
   "source": [
    "print(load01);\n",
    "\n"
   ]
  },
  {
   "cell_type": "code",
   "execution_count": 4,
   "metadata": {
    "collapsed": false
   },
   "outputs": [
    {
     "ename": "SyntaxError",
     "evalue": "EOL while scanning string literal (<ipython-input-4-358f8c89662e>, line 13)",
     "output_type": "error",
     "traceback": [
      "\u001b[1;36m  File \u001b[1;32m\"<ipython-input-4-358f8c89662e>\"\u001b[1;36m, line \u001b[1;32m13\u001b[0m\n\u001b[1;33m    ''''\u001b[0m\n\u001b[1;37m        \n^\u001b[0m\n\u001b[1;31mSyntaxError\u001b[0m\u001b[1;31m:\u001b[0m EOL while scanning string literal\n"
     ]
    }
   ],
   "source": [
    "import nester\n",
    "\n",
    "lol = [\"55\",565,56565,[\"dsfgdk\",562,3235,2353,23]]\n",
    "\n",
    "print_lol(lol);\n",
    "''''\n",
    "try:\n",
    "    \n",
    "    with open(\"man_data.txt\",\"w\") as man_file, open (\"other_file.txt\",\"w\") as other_file:\n",
    "        \n",
    "        nester\n",
    "        \n",
    "''''\n",
    "print(\"hello\")"
   ]
  },
  {
   "cell_type": "code",
   "execution_count": 5,
   "metadata": {
    "collapsed": false
   },
   "outputs": [
    {
     "name": "stdout",
     "output_type": "stream",
     "text": [
      "55\n",
      "565\n",
      "56565\n",
      "dsfgdk\n",
      "562\n",
      "3235\n",
      "2353\n",
      "23\n"
     ]
    }
   ],
   "source": [
    "import nester\n",
    "\n",
    "lol = [\"55\",565,56565,[\"dsfgdk\",562,3235,2353,23]]\n",
    "\n",
    "nester.print_lol(lol);"
   ]
  },
  {
   "cell_type": "code",
   "execution_count": 7,
   "metadata": {
    "collapsed": false
   },
   "outputs": [
    {
     "name": "stdout",
     "output_type": "stream",
     "text": [
      "file error:err\n"
     ]
    },
    {
     "ename": "NameError",
     "evalue": "name 'new_man01' is not defined",
     "output_type": "error",
     "traceback": [
      "\u001b[1;31m---------------------------------------------------------------------------\u001b[0m",
      "\u001b[1;31mNameError\u001b[0m                                 Traceback (most recent call last)",
      "\u001b[1;32m<ipython-input-7-a52e2de8b64b>\u001b[0m in \u001b[0;36m<module>\u001b[1;34m()\u001b[0m\n\u001b[0;32m     21\u001b[0m     \u001b[0mprint\u001b[0m\u001b[1;33m(\u001b[0m\u001b[1;34m\"pickling error :\"\u001b[0m \u001b[1;33m+\u001b[0m\u001b[0mstr\u001b[0m\u001b[1;33m(\u001b[0m\u001b[1;34m\"perr\"\u001b[0m\u001b[1;33m)\u001b[0m\u001b[1;33m)\u001b[0m\u001b[1;33m;\u001b[0m\u001b[1;33m\u001b[0m\u001b[0m\n\u001b[0;32m     22\u001b[0m \u001b[1;33m\u001b[0m\u001b[0m\n\u001b[1;32m---> 23\u001b[1;33m \u001b[0mprint\u001b[0m\u001b[1;33m(\u001b[0m\u001b[0mnew_man01\u001b[0m\u001b[1;33m)\u001b[0m\u001b[1;33m\u001b[0m\u001b[0m\n\u001b[0m",
      "\u001b[1;31mNameError\u001b[0m: name 'new_man01' is not defined"
     ]
    }
   ],
   "source": [
    "import nester \n",
    "import pickle\n",
    "\n",
    "new_man= [\"data\",\"analysis\",\"common\",2656,323,233,23,56];\n",
    "\n",
    "with open(\"man_data.pickle\",\"wb\") as datain:\n",
    "    \n",
    "    pickle.dump(new_man,datain)    \n",
    "\n",
    "try:\n",
    "    \n",
    "    with open(\"man_data.txt\",\"rb\") as man_file:\n",
    "        \n",
    "        new_man01 = pickle.load(man_file)\n",
    "except IOError as err:\n",
    "    \n",
    "    print(\"file error:\" + str(\"err\"));\n",
    "    \n",
    "except pickle.PickleError as perr:\n",
    "    \n",
    "    print(\"pickling error :\" +str(\"perr\"));\n",
    "\n",
    "print(new_man01)    "
   ]
  },
  {
   "cell_type": "code",
   "execution_count": null,
   "metadata": {
    "collapsed": true
   },
   "outputs": [],
   "source": []
  }
 ],
 "metadata": {
  "kernelspec": {
   "display_name": "Python 3",
   "language": "python",
   "name": "python3"
  },
  "language_info": {
   "codemirror_mode": {
    "name": "ipython",
    "version": 3
   },
   "file_extension": ".py",
   "mimetype": "text/x-python",
   "name": "python",
   "nbconvert_exporter": "python",
   "pygments_lexer": "ipython3",
   "version": "3.4.4rc1"
  }
 },
 "nbformat": 4,
 "nbformat_minor": 0
}
