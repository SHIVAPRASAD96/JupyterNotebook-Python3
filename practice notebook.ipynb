{
 "cells": [
  {
   "cell_type": "code",
   "execution_count": 1,
   "metadata": {
    "collapsed": false
   },
   "outputs": [
    {
     "name": "stdout",
     "output_type": "stream",
     "text": [
      "Hello World\n",
      "what is\n",
      "that is\n",
      "what is\n",
      "25\n",
      "26\n",
      "35\n",
      "2452\n"
     ]
    }
   ],
   "source": [
    "list01 = [\"Hello World\",\"what is\",[\"that is\",\"what is\"],25,26,35,2452];\n",
    "for ele01 in list01:\n",
    "    if isinstance(ele01 , list):\n",
    "        \n",
    "        for ele02 in ele01:\n",
    "            \n",
    "            print(ele02);\n",
    "    else:\n",
    "        \n",
    "        print(ele01);\n",
    "        "
   ]
  },
  {
   "cell_type": "code",
   "execution_count": 2,
   "metadata": {
    "collapsed": false
   },
   "outputs": [
    {
     "name": "stdout",
     "output_type": "stream",
     "text": [
      "the\n",
      "hello\n",
      "name\n",
      "24\n",
      "562\n",
      "246\n",
      "this\n",
      "that\n",
      "10\n"
     ]
    }
   ],
   "source": [
    "def print_lol(the_list):\n",
    "    \n",
    "    for ele01 in the_list:\n",
    "        \n",
    "        if isinstance(ele01,list):\n",
    "            \n",
    "            print_lol(ele01);\n",
    "        \n",
    "        else:\n",
    "            print(ele01);\n",
    "            \n",
    "list01 = [\"the\", \"hello\",[\"name\",24,562,246,[\"this\",\"that\"]],10]\n",
    "\n",
    "print_lol(list01)"
   ]
  },
  {
   "cell_type": "code",
   "execution_count": null,
   "metadata": {
    "collapsed": true
   },
   "outputs": [],
   "source": [
    "from distullis.core import setup\n",
    "\n",
    "setup(\n",
    "\n",
    "    name = \"nester\"\n",
    "    \n",
    "    version = \"1.0.0\"\n",
    "    \n",
    "    py_modules = [\"nester\"]\n",
    "    \n",
    "    author = \"shivaprasad\"\n",
    "    \n",
    "    author_email = \"kscswamy@gmail.com\"\n",
    "    \n",
    "    url = \"http:://www.code-ed.in\"\n",
    "    \n",
    "    description = \"A simple nester program in python\"\n",
    ")"
   ]
  }
 ],
 "metadata": {
  "kernelspec": {
   "display_name": "Python 3",
   "language": "python",
   "name": "python3"
  },
  "language_info": {
   "codemirror_mode": {
    "name": "ipython",
    "version": 3
   },
   "file_extension": ".py",
   "mimetype": "text/x-python",
   "name": "python",
   "nbconvert_exporter": "python",
   "pygments_lexer": "ipython3",
   "version": "3.4.4rc1"
  }
 },
 "nbformat": 4,
 "nbformat_minor": 0
}
